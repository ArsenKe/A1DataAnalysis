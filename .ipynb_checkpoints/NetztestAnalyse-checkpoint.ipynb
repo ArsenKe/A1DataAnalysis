{
 "cells": [
  {
   "cell_type": "code",
   "execution_count": 1,
   "id": "ea568568-49ba-4f38-a88c-74d24a023eab",
   "metadata": {},
   "outputs": [],
   "source": [
    "import pandas as pd\n",
    "import numpy as np\n",
    "import matplotlib.pyplot as plt\n"
   ]
  },
  {
   "cell_type": "markdown",
   "id": "74cf3e20-66da-450b-abc4-147e3b780041",
   "metadata": {},
   "source": [
    "1. Daten einlesen"
   ]
  },
  {
   "cell_type": "code",
   "execution_count": 2,
   "id": "175618ed-e152-4f7f-9dbb-336a9462be67",
   "metadata": {},
   "outputs": [],
   "source": [
    "df = pd.read_csv('netztest-opendata_hours-048.csv')\n",
    "\n",
    "# Nur plausible Datenpunkte\n",
    "df = df[df['implausible'] == False]\n",
    "\n",
    "# Datum und Uhrzeit in eine einzige Spalte konvertieren\n",
    "df['Test_Datetime'] = pd.to_datetime(df['time_utc'])\n",
    "df.set_index('Test_Datetime', inplace=True)\n"
   ]
  },
  {
   "cell_type": "markdown",
   "id": "f4ff02df-49da-44d9-89bd-e67b320c065f",
   "metadata": {},
   "source": [
    "2. Anzahl der Speedtests pro Stunde"
   ]
  },
  {
   "cell_type": "code",
   "execution_count": null,
   "id": "a0905e2d-bf0f-4607-9955-adcbb44c1068",
   "metadata": {},
   "outputs": [],
   "source": []
  }
 ],
 "metadata": {
  "kernelspec": {
   "display_name": "Python 3 (ipykernel)",
   "language": "python",
   "name": "python3"
  },
  "language_info": {
   "codemirror_mode": {
    "name": "ipython",
    "version": 3
   },
   "file_extension": ".py",
   "mimetype": "text/x-python",
   "name": "python",
   "nbconvert_exporter": "python",
   "pygments_lexer": "ipython3",
   "version": "3.11.7"
  }
 },
 "nbformat": 4,
 "nbformat_minor": 5
}
